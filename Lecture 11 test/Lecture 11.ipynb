{
 "cells": [
  {
   "attachments": {},
   "cell_type": "markdown",
   "metadata": {},
   "source": [
    "# <span style=\"color:darkblue\"> Lecture 11: Application 1 - Linear Regression </span>\n",
    "\n",
    "<font size = \"5\">\n",
    "\n",
    "We will fit statistical models to data\n",
    "\n",
    "- I will give an intro with minimal stats background\n",
    "- See the optional lecture file for advanced users\n",
    "\n",
    "The primary goal is to practice previous commands"
   ]
  },
  {
   "attachments": {},
   "cell_type": "markdown",
   "metadata": {},
   "source": [
    "# <span style=\"color:darkblue\"> I. Import Libraries </span>\n"
   ]
  },
  {
   "cell_type": "code",
   "execution_count": 9,
   "metadata": {},
   "outputs": [],
   "source": [
    "# The \"pandas\" library is used for processing datasets\n",
    "# The \"numpy\" is for numeric observations and random numbers\n",
    "# The \"matplotlib.pyplot\" library is for creating graphs\n",
    "\n",
    "import pandas as pd\n",
    "import numpy as np\n",
    "import matplotlib.pyplot as plt"
   ]
  },
  {
   "attachments": {},
   "cell_type": "markdown",
   "metadata": {},
   "source": [
    "<font size = \"5\">\n",
    "\n",
    "Install the \"statsmodels\" library\n",
    "- Run \"pip3 install statsmodels\" in the terminal\n",
    "- Automatically included in Anaconda"
   ]
  },
  {
   "cell_type": "code",
   "execution_count": 10,
   "metadata": {},
   "outputs": [],
   "source": [
    "# We will \"alias\" two sublibraries in \"statsmodels\"\n",
    "# \"statsmodels.formula.api\" contains functions to estimate models\n",
    "# \"statsmodels.api\" contains general-use statistical options\n",
    "\n",
    "import statsmodels.api as sm\n",
    "import statsmodels.formula.api as smf\n"
   ]
  },
  {
   "attachments": {},
   "cell_type": "markdown",
   "metadata": {},
   "source": [
    "# <span style=\"color:darkblue\"> II. Generate simulated Data </span>\n",
    "\n",
    "<font size = \"5\">\n",
    "\n",
    "Create an empty dataset"
   ]
  },
  {
   "cell_type": "code",
   "execution_count": 2,
   "metadata": {},
   "outputs": [],
   "source": [
    "dataset = pd.DataFrame([])"
   ]
  },
  {
   "attachments": {},
   "cell_type": "markdown",
   "metadata": {},
   "source": [
    "<font size = \"5\">\n",
    "\n",
    "Create two random variables of size ($n = 50$)"
   ]
  },
  {
   "cell_type": "code",
   "execution_count": 11,
   "metadata": {},
   "outputs": [],
   "source": [
    "n = 50\n",
    "dataset[\"x\"] = np.random.normal(loc = 0,scale = 1, size = n)\n",
    "dataset[\"e\"] = np.random.normal(loc = 0,scale = 1, size = n)\n"
   ]
  },
  {
   "attachments": {},
   "cell_type": "markdown",
   "metadata": {},
   "source": [
    "<font size = \"5\">\n",
    "\n",
    "Create data from the linear model\n",
    "\n",
    "$ y = b_0 + b_1 x + e, \\qquad b_0 = 1, b_1 = 2.$"
   ]
  },
  {
   "cell_type": "code",
   "execution_count": 12,
   "metadata": {},
   "outputs": [],
   "source": [
    "# The number b0 is known as the \"intercept\"\n",
    "# The number b1 is known as the \"slope\"\n",
    "\n",
    "b0 = 1\n",
    "b1 = 2\n",
    "\n",
    "# We can compute formulas directly over dataset columns\n",
    "dataset[\"y\"] = b0 + b1 * dataset[\"x\"] + dataset[\"e\"]"
   ]
  },
  {
   "attachments": {},
   "cell_type": "markdown",
   "metadata": {},
   "source": [
    "<font size = \"5\">\n",
    "\n",
    "Compute the theoretically best fit line\n",
    "\n",
    "$ p = b_0 + b_1 x$"
   ]
  },
  {
   "cell_type": "code",
   "execution_count": 13,
   "metadata": {},
   "outputs": [],
   "source": [
    "dataset[\"p\"] = b0 + b1*dataset[\"x\"]"
   ]
  },
  {
   "attachments": {},
   "cell_type": "markdown",
   "metadata": {},
   "source": [
    "<font size = \"5\">\n",
    "\n",
    "Plot the data"
   ]
  },
  {
   "cell_type": "code",
   "execution_count": 14,
   "metadata": {},
   "outputs": [
    {
     "data": {
      "image/png": "[encoded data removed]",
      "text/plain": [
       "<Figure size 640x480 with 1 Axes>"
      ]
     },
     "metadata": {},
     "output_type": "display_data"
    }
   ],
   "source": [
    "plt.scatter(x = dataset[\"x\"], y = dataset[\"y\"])\n",
    "plt.scatter(x = dataset[\"x\"], y = dataset[\"p\"])\n",
    "\n",
    "plt.xlabel(\"X Variable\")\n",
    "plt.ylabel(\"Y Variable\")\n",
    "plt.legend(labels = [\"Data points\", \"Best fit line\"])\n",
    "plt.show()\n"
   ]
  },
  {
   "attachments": {},
   "cell_type": "markdown",
   "metadata": {},
   "source": [
    "<font size = \"5\" >\n",
    "\n",
    "Try it yourself\n",
    "\n",
    "- Create a new dataset called $\\quad$```subset_above2``` \n",
    "- This subsets records with $y \\ge 2$ using $\\quad$```.query()```\n",
    "- Count the original rows $\\quad$ ```len(dataset)```\n",
    "- Count the subsetted rows $\\quad$ ```len(subset_above2)```\n",
    "- Compute the proportion of subsetted observations\n"
   ]
  },
  {
   "cell_type": "code",
   "execution_count": 24,
   "metadata": {},
   "outputs": [
    {
     "name": "stdout",
     "output_type": "stream",
     "text": [
      "50\n",
      "19\n",
      "             x           e             y           p\n",
      "0    11.583785 -106.358942      4.632105    4.438788\n",
      "1    20.494766   24.206369      5.221144    6.657015\n",
      "2   -44.191362  -15.885500    -17.993176  135.614083\n",
      "3  -133.008671  126.527633     21.978806   26.599306\n",
      "4     9.710584  -45.082819      4.229921    3.867090\n",
      "5   -20.765234   42.324729    -49.859395  -22.892070\n",
      "6    73.973743  -19.048036     36.806184   12.552060\n",
      "7   -35.002477   26.104689     29.585747 -221.865512\n",
      "8   138.341429  -27.844933     32.076586   14.905670\n",
      "9    28.096805   15.874628      5.353100    8.076628\n",
      "10   98.593427   10.968413      6.094298   13.714241\n",
      "11   36.308486  -11.731130     44.500144    9.283748\n",
      "12 -148.618185  -57.562411     45.867715   25.526956\n",
      "13   15.635552   13.372133      3.916537    5.538779\n",
      "14  -24.044530   55.326983    -80.172794  -32.735986\n",
      "15  -20.111475 -168.000562    -18.951419  -21.361069\n",
      "16  116.790896   76.691370     12.077954   14.335643\n",
      "17    7.952478   10.784595      2.519841    3.288116\n",
      "18   12.078469   17.680780      3.639354    4.582626\n",
      "19 -129.419542  -22.394486   -133.763388   26.897655\n",
      "20  -10.599033   42.554750     -8.883698   -7.349435\n",
      "21   10.398030   12.447816      3.073981    4.082037\n",
      "22  -32.610303  100.654535    808.903898 -114.959292\n",
      "23  403.302395   28.864102     10.841783   17.363934\n",
      "24    9.758083   13.274805      3.003720    3.882140\n",
      "25  -76.986770   12.718158      9.498405   37.519103\n",
      "26 -421.612425  -64.293170     30.927069   20.882108\n",
      "27   59.756276   96.278134     10.364043   11.614285\n",
      "28  -21.388455   12.626851     26.096377  -24.463747\n",
      "29  -17.601193   13.577517     79.025857  -16.394227\n",
      "30   14.357123  -14.678588      8.076969    5.210090\n",
      "31  -37.187461  -19.739698    -19.301544 -869.572269\n",
      "32   -9.899449   10.838991    -17.500763   -6.693446\n",
      "33   24.786606   19.682537      5.431041    7.500732\n",
      "34   54.819600   17.633571      6.857540   11.221470\n",
      "35   19.389018  -30.365572      8.139960    6.419196\n",
      "36  206.986843  -16.039406 -19076.456756   16.052903\n",
      "37   13.283252  -24.903351      6.133394    4.921330\n",
      "38   10.406954   87.235355      3.902073    4.084787\n",
      "39  -29.480768  -11.289823     -9.635340  -65.749421\n",
      "40   82.519703  -10.893209    -66.969810   13.009278\n",
      "41   13.891661  -98.563465      5.363164    5.086396\n",
      "42   93.473020  -31.615943     23.585731   13.508379\n",
      "43   12.435538   74.479174      4.407470    4.684697\n",
      "44   24.215835  -19.076679     12.076982    7.395237\n",
      "45  -30.687073 -659.128175    -71.125781  -79.729278\n",
      "46  -17.625262  -63.985854    -13.076961  -16.436038\n",
      "47  -67.906329  -33.244845   -144.914765   43.142047\n",
      "48 -157.613404  -23.033463   -287.952726   25.036113\n",
      "49  -19.338189   44.450057    -35.343730  -19.688636\n"
     ]
    }
   ],
   "source": [
    "# Write your own code here\n",
    "\n",
    "subset_above2=dataset.query(\"y >= 2\")\n",
    "print(len(dataset))\n",
    "print(len(subset_above2))\n",
    "print(len(subset_above2)/(dataset))\n",
    "\n",
    "#???"
   ]
  },
  {
   "attachments": {},
   "cell_type": "markdown",
   "metadata": {},
   "source": [
    "<font size = \"5\">\n",
    "\n",
    "Try it yourself!\n",
    "\n",
    "- Store the sample mean of $y$ as $\\quad$ ```ybar```\n",
    "- Compute the standard deviation of $y$ $\\quad$ ```stdv_sample```\n",
    "- Use ```.query()``` to subset observations that satisfy\n",
    "\n",
    "$ \\qquad abs\\left(y - ybar \\right) \\le stdv\\_sample $\n",
    "\n",
    "$\\quad$ HINT: Use ```.mean()```,$\\text{ }$ ```.std()``` <br>\n",
    "$\\quad$ HINT: Use the globals  $\\ $ ```@xbar```,$\\text{ }$ ```@stdv_sample```"
   ]
  },
  {
   "cell_type": "code",
   "execution_count": 32,
   "metadata": {},
   "outputs": [
    {
     "data": {
      "text/html": [
       "<div>\n",
       "<style scoped>\n",
       "    .dataframe tbody tr th:only-of-type {\n",
       "        vertical-align: middle;\n",
       "    }\n",
       "\n",
       "    .dataframe tbody tr th {\n",
       "        vertical-align: top;\n",
       "    }\n",
       "\n",
       "    .dataframe thead th {\n",
       "        text-align: right;\n",
       "    }\n",
       "</style>\n",
       "<table border=\"1\" class=\"dataframe\">\n",
       "  <thead>\n",
       "    <tr style=\"text-align: right;\">\n",
       "      <th></th>\n",
       "      <th>x</th>\n",
       "      <th>e</th>\n",
       "      <th>y</th>\n",
       "      <th>p</th>\n",
       "    </tr>\n",
       "  </thead>\n",
       "  <tbody>\n",
       "    <tr>\n",
       "      <th>1</th>\n",
       "      <td>0.927066</td>\n",
       "      <td>0.784917</td>\n",
       "      <td>3.639049</td>\n",
       "      <td>2.854132</td>\n",
       "    </tr>\n",
       "    <tr>\n",
       "      <th>3</th>\n",
       "      <td>-0.142848</td>\n",
       "      <td>0.150165</td>\n",
       "      <td>0.864469</td>\n",
       "      <td>0.714304</td>\n",
       "    </tr>\n",
       "    <tr>\n",
       "      <th>5</th>\n",
       "      <td>-0.914991</td>\n",
       "      <td>0.448910</td>\n",
       "      <td>-0.381072</td>\n",
       "      <td>-0.829982</td>\n",
       "    </tr>\n",
       "    <tr>\n",
       "      <th>6</th>\n",
       "      <td>0.256848</td>\n",
       "      <td>-0.997478</td>\n",
       "      <td>0.516218</td>\n",
       "      <td>1.513696</td>\n",
       "    </tr>\n",
       "    <tr>\n",
       "      <th>7</th>\n",
       "      <td>-0.542819</td>\n",
       "      <td>0.727839</td>\n",
       "      <td>0.642201</td>\n",
       "      <td>-0.085637</td>\n",
       "    </tr>\n",
       "    <tr>\n",
       "      <th>8</th>\n",
       "      <td>0.137341</td>\n",
       "      <td>-0.682350</td>\n",
       "      <td>0.592332</td>\n",
       "      <td>1.274683</td>\n",
       "    </tr>\n",
       "    <tr>\n",
       "      <th>9</th>\n",
       "      <td>0.676233</td>\n",
       "      <td>1.196878</td>\n",
       "      <td>3.549345</td>\n",
       "      <td>2.352467</td>\n",
       "    </tr>\n",
       "    <tr>\n",
       "      <th>10</th>\n",
       "      <td>0.192711</td>\n",
       "      <td>1.732247</td>\n",
       "      <td>3.117668</td>\n",
       "      <td>1.385421</td>\n",
       "    </tr>\n",
       "    <tr>\n",
       "      <th>11</th>\n",
       "      <td>0.523294</td>\n",
       "      <td>-1.619622</td>\n",
       "      <td>0.426965</td>\n",
       "      <td>2.046587</td>\n",
       "    </tr>\n",
       "    <tr>\n",
       "      <th>12</th>\n",
       "      <td>-0.127844</td>\n",
       "      <td>-0.330077</td>\n",
       "      <td>0.414235</td>\n",
       "      <td>0.744311</td>\n",
       "    </tr>\n",
       "    <tr>\n",
       "      <th>14</th>\n",
       "      <td>-0.790201</td>\n",
       "      <td>0.343413</td>\n",
       "      <td>-0.236988</td>\n",
       "      <td>-0.580401</td>\n",
       "    </tr>\n",
       "    <tr>\n",
       "      <th>16</th>\n",
       "      <td>0.162684</td>\n",
       "      <td>0.247746</td>\n",
       "      <td>1.573114</td>\n",
       "      <td>1.325368</td>\n",
       "    </tr>\n",
       "    <tr>\n",
       "      <th>19</th>\n",
       "      <td>-0.146809</td>\n",
       "      <td>-0.848423</td>\n",
       "      <td>-0.142042</td>\n",
       "      <td>0.706381</td>\n",
       "    </tr>\n",
       "    <tr>\n",
       "      <th>22</th>\n",
       "      <td>-0.582638</td>\n",
       "      <td>0.188764</td>\n",
       "      <td>0.023489</td>\n",
       "      <td>-0.165276</td>\n",
       "    </tr>\n",
       "    <tr>\n",
       "      <th>23</th>\n",
       "      <td>0.047111</td>\n",
       "      <td>0.658257</td>\n",
       "      <td>1.752479</td>\n",
       "      <td>1.094222</td>\n",
       "    </tr>\n",
       "    <tr>\n",
       "      <th>25</th>\n",
       "      <td>-0.246796</td>\n",
       "      <td>1.493927</td>\n",
       "      <td>2.000336</td>\n",
       "      <td>0.506409</td>\n",
       "    </tr>\n",
       "    <tr>\n",
       "      <th>26</th>\n",
       "      <td>-0.045065</td>\n",
       "      <td>-0.295521</td>\n",
       "      <td>0.614349</td>\n",
       "      <td>0.909870</td>\n",
       "    </tr>\n",
       "    <tr>\n",
       "      <th>27</th>\n",
       "      <td>0.317958</td>\n",
       "      <td>0.197345</td>\n",
       "      <td>1.833261</td>\n",
       "      <td>1.635916</td>\n",
       "    </tr>\n",
       "    <tr>\n",
       "      <th>28</th>\n",
       "      <td>-0.888330</td>\n",
       "      <td>1.504730</td>\n",
       "      <td>0.728070</td>\n",
       "      <td>-0.776659</td>\n",
       "    </tr>\n",
       "    <tr>\n",
       "      <th>29</th>\n",
       "      <td>-1.079472</td>\n",
       "      <td>1.399372</td>\n",
       "      <td>0.240428</td>\n",
       "      <td>-1.158945</td>\n",
       "    </tr>\n",
       "    <tr>\n",
       "      <th>30</th>\n",
       "      <td>1.323385</td>\n",
       "      <td>-1.294402</td>\n",
       "      <td>2.352367</td>\n",
       "      <td>3.646770</td>\n",
       "    </tr>\n",
       "    <tr>\n",
       "      <th>33</th>\n",
       "      <td>0.766543</td>\n",
       "      <td>0.965323</td>\n",
       "      <td>3.498409</td>\n",
       "      <td>2.533086</td>\n",
       "    </tr>\n",
       "    <tr>\n",
       "      <th>34</th>\n",
       "      <td>0.346591</td>\n",
       "      <td>1.077490</td>\n",
       "      <td>2.770673</td>\n",
       "      <td>1.693183</td>\n",
       "    </tr>\n",
       "    <tr>\n",
       "      <th>35</th>\n",
       "      <td>0.979936</td>\n",
       "      <td>-0.625709</td>\n",
       "      <td>2.334164</td>\n",
       "      <td>2.959872</td>\n",
       "    </tr>\n",
       "    <tr>\n",
       "      <th>36</th>\n",
       "      <td>0.091793</td>\n",
       "      <td>-1.184583</td>\n",
       "      <td>-0.000996</td>\n",
       "      <td>1.183587</td>\n",
       "    </tr>\n",
       "    <tr>\n",
       "      <th>37</th>\n",
       "      <td>1.430373</td>\n",
       "      <td>-0.762950</td>\n",
       "      <td>3.097796</td>\n",
       "      <td>3.860745</td>\n",
       "    </tr>\n",
       "    <tr>\n",
       "      <th>40</th>\n",
       "      <td>0.230248</td>\n",
       "      <td>-1.744206</td>\n",
       "      <td>-0.283710</td>\n",
       "      <td>1.460496</td>\n",
       "    </tr>\n",
       "    <tr>\n",
       "      <th>41</th>\n",
       "      <td>1.367727</td>\n",
       "      <td>-0.192769</td>\n",
       "      <td>3.542685</td>\n",
       "      <td>3.735454</td>\n",
       "    </tr>\n",
       "    <tr>\n",
       "      <th>42</th>\n",
       "      <td>0.203267</td>\n",
       "      <td>-0.600963</td>\n",
       "      <td>0.805572</td>\n",
       "      <td>1.406534</td>\n",
       "    </tr>\n",
       "    <tr>\n",
       "      <th>44</th>\n",
       "      <td>0.784611</td>\n",
       "      <td>-0.995980</td>\n",
       "      <td>1.573241</td>\n",
       "      <td>2.569221</td>\n",
       "    </tr>\n",
       "    <tr>\n",
       "      <th>45</th>\n",
       "      <td>-0.619153</td>\n",
       "      <td>-0.028826</td>\n",
       "      <td>-0.267132</td>\n",
       "      <td>-0.238306</td>\n",
       "    </tr>\n",
       "    <tr>\n",
       "      <th>47</th>\n",
       "      <td>-0.279797</td>\n",
       "      <td>-0.571517</td>\n",
       "      <td>-0.131112</td>\n",
       "      <td>0.440406</td>\n",
       "    </tr>\n",
       "    <tr>\n",
       "      <th>48</th>\n",
       "      <td>-0.120548</td>\n",
       "      <td>-0.824887</td>\n",
       "      <td>-0.065983</td>\n",
       "      <td>0.758904</td>\n",
       "    </tr>\n",
       "    <tr>\n",
       "      <th>49</th>\n",
       "      <td>-0.982512</td>\n",
       "      <td>0.427446</td>\n",
       "      <td>-0.537578</td>\n",
       "      <td>-0.965024</td>\n",
       "    </tr>\n",
       "  </tbody>\n",
       "</table>\n",
       "</div>"
      ],
      "text/plain": [
       "           x         e         y         p\n",
       "1   0.927066  0.784917  3.639049  2.854132\n",
       "3  -0.142848  0.150165  0.864469  0.714304\n",
       "5  -0.914991  0.448910 -0.381072 -0.829982\n",
       "6   0.256848 -0.997478  0.516218  1.513696\n",
       "7  -0.542819  0.727839  0.642201 -0.085637\n",
       "8   0.137341 -0.682350  0.592332  1.274683\n",
       "9   0.676233  1.196878  3.549345  2.352467\n",
       "10  0.192711  1.732247  3.117668  1.385421\n",
       "11  0.523294 -1.619622  0.426965  2.046587\n",
       "12 -0.127844 -0.330077  0.414235  0.744311\n",
       "14 -0.790201  0.343413 -0.236988 -0.580401\n",
       "16  0.162684  0.247746  1.573114  1.325368\n",
       "19 -0.146809 -0.848423 -0.142042  0.706381\n",
       "22 -0.582638  0.188764  0.023489 -0.165276\n",
       "23  0.047111  0.658257  1.752479  1.094222\n",
       "25 -0.246796  1.493927  2.000336  0.506409\n",
       "26 -0.045065 -0.295521  0.614349  0.909870\n",
       "27  0.317958  0.197345  1.833261  1.635916\n",
       "28 -0.888330  1.504730  0.728070 -0.776659\n",
       "29 -1.079472  1.399372  0.240428 -1.158945\n",
       "30  1.323385 -1.294402  2.352367  3.646770\n",
       "33  0.766543  0.965323  3.498409  2.533086\n",
       "34  0.346591  1.077490  2.770673  1.693183\n",
       "35  0.979936 -0.625709  2.334164  2.959872\n",
       "36  0.091793 -1.184583 -0.000996  1.183587\n",
       "37  1.430373 -0.762950  3.097796  3.860745\n",
       "40  0.230248 -1.744206 -0.283710  1.460496\n",
       "41  1.367727 -0.192769  3.542685  3.735454\n",
       "42  0.203267 -0.600963  0.805572  1.406534\n",
       "44  0.784611 -0.995980  1.573241  2.569221\n",
       "45 -0.619153 -0.028826 -0.267132 -0.238306\n",
       "47 -0.279797 -0.571517 -0.131112  0.440406\n",
       "48 -0.120548 -0.824887 -0.065983  0.758904\n",
       "49 -0.982512  0.427446 -0.537578 -0.965024"
      ]
     },
     "metadata": {},
     "output_type": "display_data"
    }
   ],
   "source": [
    "# Note: abs(...) is the absolute value function\n",
    "# Write your own code \n",
    "\n",
    "\n",
    "ybar = dataset[\"y\"].mean()\n",
    "stdv_sample=dataset[\"y\"].std()\n",
    "subset1=dataset.query(\"abs(y- @ybar) <= @stdv_sample\")\n",
    "display(subset1)\n"
   ]
  },
  {
   "attachments": {},
   "cell_type": "markdown",
   "metadata": {},
   "source": [
    "# <span style=\"color:darkblue\"> II. Estimate the best fit line</span>\n"
   ]
  },
  {
   "attachments": {},
   "cell_type": "markdown",
   "metadata": {},
   "source": [
    "<font size = \"5\">\n",
    "\n",
    "We have data on $(y,x)$ but we don't know $(b_0,b_1)$"
   ]
  },
  {
   "attachments": {},
   "cell_type": "markdown",
   "metadata": {},
   "source": [
    "<font size = \"5\">\n",
    "\n",
    "Let's fit an OLS model\n",
    "\n",
    "- It's a statistical approach to get $(b_0,b_1)$\n",
    "- No need to know how it works but why we want it"
   ]
  },
  {
   "cell_type": "code",
   "execution_count": 33,
   "metadata": {},
   "outputs": [],
   "source": [
    "#------------------------------------------------------------------------------#\n",
    "# We use the subfunction \"ols()\" in the library \"smf\" - - ordinary least squares\n",
    "#---- (i) The first argument is a string called \"formula\" with the format \n",
    "#-------- \"outcome ~ indepdent_vars\"\n",
    "#----(ii) the second argument is the dataset\n",
    "# The second line fits the model with standard errors \"cov\". In this case we \n",
    "# use \"robust\" standard errors (HC1)\n",
    "#-------------------------------------------------------------------------------#\n",
    "\n",
    "model   = smf.ols(formula = 'y ~  x',data = dataset)\n",
    "results = model.fit(cov = \"HC1\") #hc1 robost standard errors\n",
    "\n",
    "# Can also run as one line\n",
    "# results = smf.ols(formula = 'y ~ x',data = dataset).fit(cov = \"HC1\")\n"
   ]
  },
  {
   "attachments": {},
   "cell_type": "markdown",
   "metadata": {},
   "source": [
    "<font size = \"5\">\n",
    "\n",
    "Compute the estimated best fit line"
   ]
  },
  {
   "cell_type": "code",
   "execution_count": 34,
   "metadata": {},
   "outputs": [
    {
     "name": "stdout",
     "output_type": "stream",
     "text": [
      "Intercept    1.088180\n",
      "x            2.048241\n",
      "dtype: float64\n"
     ]
    }
   ],
   "source": [
    "# We will use \".params\" to get the attribute \"parameters from the results\"\n",
    "\n",
    "b_list = results.params\n",
    "print(b_list)\n",
    "\n",
    "# We can then compute the \"estimated\" best fit lines\n",
    "# by extracting the intercept and slop from \"b_list\"\n",
    "\n",
    "dataset[\"p_estimated\"] = b_list[0] + b_list[1]  * dataset[\"x\"]\n",
    "\n",
    "# Note: The estimators for \"b0\" and \"b1\" are close to \n",
    "# the values we used to generate the data\n"
   ]
  },
  {
   "attachments": {},
   "cell_type": "markdown",
   "metadata": {},
   "source": [
    "<font size = \"5\">\n",
    "\n",
    "Plot the best fit line"
   ]
  },
  {
   "cell_type": "code",
   "execution_count": 46,
   "metadata": {},
   "outputs": [
    {
     "data": {
      "image/png": "[encoded data removed]",
      "text/plain": [
       "<Figure size 640x480 with 1 Axes>"
      ]
     },
     "metadata": {},
     "output_type": "display_data"
    }
   ],
   "source": [
    "# Use scatter twice, with different \"y\" inputs\n",
    "# THe \"legend\" command creates a box on with the color labels\n",
    "\n",
    "plt.scatter(x = dataset[\"x\"],y = dataset[\"y\"])\n",
    "plt.scatter(x = dataset[\"x\"],y = dataset[\"p_estimated\"])\n",
    "\n",
    "plt.legend(labels = [\"Data points\",\"Estimated Predicted Model\"])\n",
    "plt.show()\n"
   ]
  },
  {
   "attachments": {},
   "cell_type": "markdown",
   "metadata": {},
   "source": [
    "<font size = \"5\">\n",
    "\n",
    "Try it yourself!\n",
    "- How good is the estimated fit?\n",
    "- Create two overlapping scatterplots\n",
    "- $(p \\text{ }$ vs $\\text{ } x)$ and $(p_{estimated} \\text{ }$ vs $\\text{ } x)$\n",
    "- Create a legend to label each plot"
   ]
  },
  {
   "cell_type": "code",
   "execution_count": 36,
   "metadata": {},
   "outputs": [
    {
     "data": {
      "image/png": "[encoded data removed]",
      "text/plain": [
       "<Figure size 640x480 with 1 Axes>"
      ]
     },
     "metadata": {},
     "output_type": "display_data"
    }
   ],
   "source": [
    "\n",
    "plt.scatter(x = dataset[\"x\"],y = dataset[\"p\"])\n",
    "plt.scatter(x = dataset[\"x\"],y = dataset[\"p_estimated\"])\n",
    "\n",
    "plt.legend(labels = [\"Line of best fit\",\"Estimated Predicted Model\"])\n",
    "plt.show()\n"
   ]
  },
  {
   "attachments": {},
   "cell_type": "markdown",
   "metadata": {},
   "source": [
    "<font size = \"5\">\n",
    "\n",
    "Try it youself\n",
    "\n",
    "- Compute a column with the formula\n",
    "\n",
    "$\\quad$ ``` sample_error = y - p_estimated```\n",
    "\n",
    "- Create a lambda function <br>\n",
    "\n",
    "$\\quad$ ``` fn_positive_error  error: error >= 0  ```\n",
    "\n",
    "- Compute a column for whether the error is positive <br>\n",
    "using ``` .apply()```\n",
    "\n"
   ]
  },
  {
   "cell_type": "code",
   "execution_count": 45,
   "metadata": {},
   "outputs": [
    {
     "ename": "KeyError",
     "evalue": "'sample_error'",
     "output_type": "error",
     "traceback": [
      "\u001b[1;31m---------------------------------------------------------------------------\u001b[0m",
      "\u001b[1;31mKeyError\u001b[0m                                  Traceback (most recent call last)",
      "File \u001b[1;32mc:\\Users\\dell\\AppData\\Local\\Programs\\Python\\Python311\\Lib\\site-packages\\pandas\\core\\indexes\\base.py:3803\u001b[0m, in \u001b[0;36mIndex.get_loc\u001b[1;34m(self, key, method, tolerance)\u001b[0m\n\u001b[0;32m   3802\u001b[0m \u001b[39mtry\u001b[39;00m:\n\u001b[1;32m-> 3803\u001b[0m     \u001b[39mreturn\u001b[39;00m \u001b[39mself\u001b[39;49m\u001b[39m.\u001b[39;49m_engine\u001b[39m.\u001b[39;49mget_loc(casted_key)\n\u001b[0;32m   3804\u001b[0m \u001b[39mexcept\u001b[39;00m \u001b[39mKeyError\u001b[39;00m \u001b[39mas\u001b[39;00m err:\n",
      "File \u001b[1;32mc:\\Users\\dell\\AppData\\Local\\Programs\\Python\\Python311\\Lib\\site-packages\\pandas\\_libs\\index.pyx:138\u001b[0m, in \u001b[0;36mpandas._libs.index.IndexEngine.get_loc\u001b[1;34m()\u001b[0m\n",
      "File \u001b[1;32mc:\\Users\\dell\\AppData\\Local\\Programs\\Python\\Python311\\Lib\\site-packages\\pandas\\_libs\\index.pyx:165\u001b[0m, in \u001b[0;36mpandas._libs.index.IndexEngine.get_loc\u001b[1;34m()\u001b[0m\n",
      "File \u001b[1;32mpandas\\_libs\\hashtable_class_helper.pxi:5745\u001b[0m, in \u001b[0;36mpandas._libs.hashtable.PyObjectHashTable.get_item\u001b[1;34m()\u001b[0m\n",
      "File \u001b[1;32mpandas\\_libs\\hashtable_class_helper.pxi:5753\u001b[0m, in \u001b[0;36mpandas._libs.hashtable.PyObjectHashTable.get_item\u001b[1;34m()\u001b[0m\n",
      "\u001b[1;31mKeyError\u001b[0m: 'sample_error'",
      "\nThe above exception was the direct cause of the following exception:\n",
      "\u001b[1;31mKeyError\u001b[0m                                  Traceback (most recent call last)",
      "Cell \u001b[1;32mIn[45], line 5\u001b[0m\n\u001b[0;32m      3\u001b[0m sample_error \u001b[39m=\u001b[39m dataset[\u001b[39m\"\u001b[39m\u001b[39my\u001b[39m\u001b[39m\"\u001b[39m] \u001b[39m-\u001b[39m dataset[\u001b[39m\"\u001b[39m\u001b[39mp_estimated\u001b[39m\u001b[39m\"\u001b[39m]\n\u001b[0;32m      4\u001b[0m fn_postive_error\u001b[39m=\u001b[39m \u001b[39mlambda\u001b[39;00m error: error\u001b[39m>\u001b[39m\u001b[39m=\u001b[39m\u001b[39m0\u001b[39m\n\u001b[1;32m----> 5\u001b[0m dataset[\u001b[39m\"\u001b[39m\u001b[39mpositivesampleerror\u001b[39m\u001b[39m\"\u001b[39m]\u001b[39m=\u001b[39mdataset[\u001b[39m\"\u001b[39;49m\u001b[39msample_error\u001b[39;49m\u001b[39m\"\u001b[39;49m]\u001b[39m.\u001b[39mapply(fn_positive_error)\n\u001b[0;32m      7\u001b[0m \u001b[39m#???\u001b[39;00m\n",
      "File \u001b[1;32mc:\\Users\\dell\\AppData\\Local\\Programs\\Python\\Python311\\Lib\\site-packages\\pandas\\core\\frame.py:3805\u001b[0m, in \u001b[0;36mDataFrame.__getitem__\u001b[1;34m(self, key)\u001b[0m\n\u001b[0;32m   3803\u001b[0m \u001b[39mif\u001b[39;00m \u001b[39mself\u001b[39m\u001b[39m.\u001b[39mcolumns\u001b[39m.\u001b[39mnlevels \u001b[39m>\u001b[39m \u001b[39m1\u001b[39m:\n\u001b[0;32m   3804\u001b[0m     \u001b[39mreturn\u001b[39;00m \u001b[39mself\u001b[39m\u001b[39m.\u001b[39m_getitem_multilevel(key)\n\u001b[1;32m-> 3805\u001b[0m indexer \u001b[39m=\u001b[39m \u001b[39mself\u001b[39;49m\u001b[39m.\u001b[39;49mcolumns\u001b[39m.\u001b[39;49mget_loc(key)\n\u001b[0;32m   3806\u001b[0m \u001b[39mif\u001b[39;00m is_integer(indexer):\n\u001b[0;32m   3807\u001b[0m     indexer \u001b[39m=\u001b[39m [indexer]\n",
      "File \u001b[1;32mc:\\Users\\dell\\AppData\\Local\\Programs\\Python\\Python311\\Lib\\site-packages\\pandas\\core\\indexes\\base.py:3805\u001b[0m, in \u001b[0;36mIndex.get_loc\u001b[1;34m(self, key, method, tolerance)\u001b[0m\n\u001b[0;32m   3803\u001b[0m     \u001b[39mreturn\u001b[39;00m \u001b[39mself\u001b[39m\u001b[39m.\u001b[39m_engine\u001b[39m.\u001b[39mget_loc(casted_key)\n\u001b[0;32m   3804\u001b[0m \u001b[39mexcept\u001b[39;00m \u001b[39mKeyError\u001b[39;00m \u001b[39mas\u001b[39;00m err:\n\u001b[1;32m-> 3805\u001b[0m     \u001b[39mraise\u001b[39;00m \u001b[39mKeyError\u001b[39;00m(key) \u001b[39mfrom\u001b[39;00m \u001b[39merr\u001b[39;00m\n\u001b[0;32m   3806\u001b[0m \u001b[39mexcept\u001b[39;00m \u001b[39mTypeError\u001b[39;00m:\n\u001b[0;32m   3807\u001b[0m     \u001b[39m# If we have a listlike key, _check_indexing_error will raise\u001b[39;00m\n\u001b[0;32m   3808\u001b[0m     \u001b[39m#  InvalidIndexError. Otherwise we fall through and re-raise\u001b[39;00m\n\u001b[0;32m   3809\u001b[0m     \u001b[39m#  the TypeError.\u001b[39;00m\n\u001b[0;32m   3810\u001b[0m     \u001b[39mself\u001b[39m\u001b[39m.\u001b[39m_check_indexing_error(key)\n",
      "\u001b[1;31mKeyError\u001b[0m: 'sample_error'"
     ]
    }
   ],
   "source": [
    "# Write your own code\n",
    "\n",
    "sample_error = dataset[\"y\"] - dataset[\"p_estimated\"]\n",
    "fn_postive_error= lambda error: error>=0\n",
    "dataset[\"positivesampleerror\"]=dataset[\"sample_error\"].apply(fn_positive_error)\n",
    "\n",
    "#???\n"
   ]
  },
  {
   "attachments": {},
   "cell_type": "markdown",
   "metadata": {},
   "source": [
    "<font size = \"5\">\n",
    "\n",
    "Try it yourself\n",
    "\n",
    "- Compute a new column <br>\n",
    "\n",
    "```error_sqr = sample_error ** 2```\n",
    "\n",
    "- Calculate the mean of ```error_sqr```"
   ]
  },
  {
   "cell_type": "code",
   "execution_count": 43,
   "metadata": {},
   "outputs": [
    {
     "data": {
      "text/plain": [
       "0.9727427094927026"
      ]
     },
     "execution_count": 43,
     "metadata": {},
     "output_type": "execute_result"
    }
   ],
   "source": [
    "# Write your own code\n",
    "\n",
    "dataset[\"error_sqr\"]=sample_error**2\n",
    "dataset[\"error_sqr\"].mean()\n"
   ]
  }
 ],
 "metadata": {
  "kernelspec": {
   "display_name": "Python 3",
   "language": "python",
   "name": "python3"
  },
  "language_info": {
   "codemirror_mode": {
    "name": "ipython",
    "version": 3
   },
   "file_extension": ".py",
   "mimetype": "text/x-python",
   "name": "python",
   "nbconvert_exporter": "python",
   "pygments_lexer": "ipython3",
   "version": "3.11.1"
  },
  "orig_nbformat": 4,
  "vscode": {
   "interpreter": {
    "hash": "4873c8d68dc7d05f027107aa992795e76291eb1080f3d61c92f530e364807ec7"
   }
  }
 },
 "nbformat": 4,
 "nbformat_minor": 2
}
